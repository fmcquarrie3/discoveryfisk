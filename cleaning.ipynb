{
 "cells": [
  {
   "cell_type": "code",
   "execution_count": null,
   "metadata": {
    "collapsed": true
   },
   "outputs": [],
   "source": [
    "import re\n",
    "import dateutil.parser\n",
    "import datetime\n",
    "\n",
    "def clean_text(text):\n",
    "    \"\"\"takes a string of text\n",
    "    removes \\xa0 and \\u200a that are randomly splattered throughout text\n",
    "    adds spaces after punctuation that appeared to be missing\n",
    "    splits all words where a capital letter is in the middle of a word and puts a space in front of it and removes double spaces\n",
    "    \"\"\"\n",
    "    cleaned_text = text.replace(\"\\xa0\", \" \").replace(\"\\u200a\", \" \")\n",
    "    cleaned_text = re.sub(r'(?<=[.,])(?=[^\\s])', r' ', cleaned_text)\n",
    "    cleaned_text = re.sub(r'([A-Z])', r' \\1', cleaned_text).lstrip().replace(\"  \", \" \")\n",
    "    return cleaned_text\n",
    "\n",
    "def clean_date(date):\n",
    "    \"\"\"takes a string in RFC 339 format ('Y-M-D\"T\"H:M:S.MS\"Z\"')\n",
    "    returns a string of format ('Y-M-D H:M:S')\n",
    "    \"\"\"\n",
    "    date = dateutil.parser.parse(get_all_article_info(test_url_1)[3])\n",
    "    date = date.strftime(\"%Y-%m-%d %H:%M:%S\")\n",
    "    return date\n",
    "\n",
    "def clean_info(article):\n",
    "    \"\"\"takes a list with [author, author_bio, title, date,publisher, text]\n",
    "    returns [author, author_bio, title, date, publisher, text] where date and text are cleaned\n",
    "    \"\"\"\n",
    "    date = clean_date(article[3])\n",
    "    text = clean_text(article[5])\n",
    "    return [article[0], article[1], article[2], date, article[4], text]\n",
    "    \n",
    "\n"
   ]
  }
 ],
 "metadata": {
  "kernelspec": {
   "display_name": "Python 2",
   "language": "python",
   "name": "python2"
  },
  "language_info": {
   "codemirror_mode": {
    "name": "ipython",
    "version": 2
   },
   "file_extension": ".py",
   "mimetype": "text/x-python",
   "name": "python",
   "nbconvert_exporter": "python",
   "pygments_lexer": "ipython2",
   "version": "2.7.15"
  }
 },
 "nbformat": 4,
 "nbformat_minor": 2
}
